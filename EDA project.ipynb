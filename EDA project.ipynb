{
 "cells": [
  {
   "cell_type": "code",
   "execution_count": 1,
   "id": "acdf4913",
   "metadata": {},
   "outputs": [],
   "source": [
    "#Step1- import libraries\n",
    "import numpy as np\n",
    "import pandas as pd\n",
    "import seaborn as sns\n",
    "import matplotlib.pyplot as plt"
   ]
  },
  {
   "cell_type": "code",
   "execution_count": 2,
   "id": "37081cda",
   "metadata": {},
   "outputs": [],
   "source": [
    "#Step2- load dataset\n",
    "transactions_df=pd.read_csv(\"transactions.csv\")\n",
    "markets_df=pd.read_csv(\"markets.csv\")\n",
    "products_df=pd.read_csv(\"products.csv\")\n",
    "date_df=pd.read_csv(\"date.csv\")\n",
    "customers_df=pd.read_csv(\"customers.csv\")"
   ]
  },
  {
   "cell_type": "code",
   "execution_count": 3,
   "id": "acf56f23",
   "metadata": {},
   "outputs": [
    {
     "data": {
      "text/html": [
       "<div>\n",
       "<style scoped>\n",
       "    .dataframe tbody tr th:only-of-type {\n",
       "        vertical-align: middle;\n",
       "    }\n",
       "\n",
       "    .dataframe tbody tr th {\n",
       "        vertical-align: top;\n",
       "    }\n",
       "\n",
       "    .dataframe thead th {\n",
       "        text-align: right;\n",
       "    }\n",
       "</style>\n",
       "<table border=\"1\" class=\"dataframe\">\n",
       "  <thead>\n",
       "    <tr style=\"text-align: right;\">\n",
       "      <th></th>\n",
       "      <th>product_code</th>\n",
       "      <th>customer_code</th>\n",
       "      <th>market_code</th>\n",
       "      <th>order_date</th>\n",
       "      <th>sales_qty</th>\n",
       "      <th>sales_amount</th>\n",
       "      <th>currency</th>\n",
       "      <th>profit_margin</th>\n",
       "      <th>profit</th>\n",
       "      <th>cost_price</th>\n",
       "    </tr>\n",
       "  </thead>\n",
       "  <tbody>\n",
       "    <tr>\n",
       "      <th>73617</th>\n",
       "      <td>Prod283</td>\n",
       "      <td>Cus016</td>\n",
       "      <td>Mark002</td>\n",
       "      <td>2017-11-03</td>\n",
       "      <td>1</td>\n",
       "      <td>139</td>\n",
       "      <td>INR</td>\n",
       "      <td>0.38</td>\n",
       "      <td>52.82</td>\n",
       "      <td>86.18</td>\n",
       "    </tr>\n",
       "    <tr>\n",
       "      <th>2669</th>\n",
       "      <td>Prod281</td>\n",
       "      <td>Cus020</td>\n",
       "      <td>Mark011</td>\n",
       "      <td>2018-07-25</td>\n",
       "      <td>1</td>\n",
       "      <td>97</td>\n",
       "      <td>INR</td>\n",
       "      <td>-0.25</td>\n",
       "      <td>-24.25</td>\n",
       "      <td>121.25</td>\n",
       "    </tr>\n",
       "    <tr>\n",
       "      <th>25492</th>\n",
       "      <td>Prod280</td>\n",
       "      <td>Cus017</td>\n",
       "      <td>Mark011</td>\n",
       "      <td>2019-03-14</td>\n",
       "      <td>1</td>\n",
       "      <td>51</td>\n",
       "      <td>INR</td>\n",
       "      <td>-0.07</td>\n",
       "      <td>-3.57</td>\n",
       "      <td>54.57</td>\n",
       "    </tr>\n",
       "    <tr>\n",
       "      <th>84807</th>\n",
       "      <td>Prod327</td>\n",
       "      <td>Cus003</td>\n",
       "      <td>Mark003</td>\n",
       "      <td>2018-06-04</td>\n",
       "      <td>2</td>\n",
       "      <td>5282</td>\n",
       "      <td>INR</td>\n",
       "      <td>-0.01</td>\n",
       "      <td>-52.82</td>\n",
       "      <td>5334.82</td>\n",
       "    </tr>\n",
       "    <tr>\n",
       "      <th>10817</th>\n",
       "      <td>Prod100</td>\n",
       "      <td>Cus019</td>\n",
       "      <td>Mark011</td>\n",
       "      <td>2018-04-09</td>\n",
       "      <td>1</td>\n",
       "      <td>407</td>\n",
       "      <td>INR</td>\n",
       "      <td>-0.15</td>\n",
       "      <td>-61.05</td>\n",
       "      <td>468.05</td>\n",
       "    </tr>\n",
       "  </tbody>\n",
       "</table>\n",
       "</div>"
      ],
      "text/plain": [
       "      product_code customer_code market_code  order_date  sales_qty  \\\n",
       "73617      Prod283        Cus016     Mark002  2017-11-03          1   \n",
       "2669       Prod281        Cus020     Mark011  2018-07-25          1   \n",
       "25492      Prod280        Cus017     Mark011  2019-03-14          1   \n",
       "84807      Prod327        Cus003     Mark003  2018-06-04          2   \n",
       "10817      Prod100        Cus019     Mark011  2018-04-09          1   \n",
       "\n",
       "       sales_amount currency  profit_margin  profit  cost_price  \n",
       "73617           139      INR           0.38   52.82       86.18  \n",
       "2669             97      INR          -0.25  -24.25      121.25  \n",
       "25492            51      INR          -0.07   -3.57       54.57  \n",
       "84807          5282      INR          -0.01  -52.82     5334.82  \n",
       "10817           407      INR          -0.15  -61.05      468.05  "
      ]
     },
     "execution_count": 3,
     "metadata": {},
     "output_type": "execute_result"
    }
   ],
   "source": [
    "#Step3- for data understanding- display some rows(head,tail,sample)\n",
    "transactions_df.sample(5)"
   ]
  },
  {
   "cell_type": "code",
   "execution_count": 4,
   "id": "588ab935",
   "metadata": {},
   "outputs": [
    {
     "data": {
      "text/html": [
       "<div>\n",
       "<style scoped>\n",
       "    .dataframe tbody tr th:only-of-type {\n",
       "        vertical-align: middle;\n",
       "    }\n",
       "\n",
       "    .dataframe tbody tr th {\n",
       "        vertical-align: top;\n",
       "    }\n",
       "\n",
       "    .dataframe thead th {\n",
       "        text-align: right;\n",
       "    }\n",
       "</style>\n",
       "<table border=\"1\" class=\"dataframe\">\n",
       "  <thead>\n",
       "    <tr style=\"text-align: right;\">\n",
       "      <th></th>\n",
       "      <th>markets_code</th>\n",
       "      <th>markets_name</th>\n",
       "      <th>zone</th>\n",
       "    </tr>\n",
       "  </thead>\n",
       "  <tbody>\n",
       "    <tr>\n",
       "      <th>2</th>\n",
       "      <td>Mark003</td>\n",
       "      <td>Ahmedabad</td>\n",
       "      <td>North</td>\n",
       "    </tr>\n",
       "    <tr>\n",
       "      <th>11</th>\n",
       "      <td>Mark012</td>\n",
       "      <td>Surat</td>\n",
       "      <td>North</td>\n",
       "    </tr>\n",
       "    <tr>\n",
       "      <th>3</th>\n",
       "      <td>Mark004</td>\n",
       "      <td>Delhi NCR</td>\n",
       "      <td>North</td>\n",
       "    </tr>\n",
       "    <tr>\n",
       "      <th>12</th>\n",
       "      <td>Mark013</td>\n",
       "      <td>Bhopal</td>\n",
       "      <td>Central</td>\n",
       "    </tr>\n",
       "    <tr>\n",
       "      <th>16</th>\n",
       "      <td>Mark999</td>\n",
       "      <td>Paris</td>\n",
       "      <td>NaN</td>\n",
       "    </tr>\n",
       "  </tbody>\n",
       "</table>\n",
       "</div>"
      ],
      "text/plain": [
       "   markets_code markets_name     zone\n",
       "2       Mark003    Ahmedabad    North\n",
       "11      Mark012        Surat    North\n",
       "3       Mark004    Delhi NCR    North\n",
       "12      Mark013       Bhopal  Central\n",
       "16      Mark999        Paris      NaN"
      ]
     },
     "execution_count": 4,
     "metadata": {},
     "output_type": "execute_result"
    }
   ],
   "source": [
    "markets_df.sample(5)"
   ]
  },
  {
   "cell_type": "code",
   "execution_count": 5,
   "id": "1fe3e47d",
   "metadata": {},
   "outputs": [
    {
     "data": {
      "text/html": [
       "<div>\n",
       "<style scoped>\n",
       "    .dataframe tbody tr th:only-of-type {\n",
       "        vertical-align: middle;\n",
       "    }\n",
       "\n",
       "    .dataframe tbody tr th {\n",
       "        vertical-align: top;\n",
       "    }\n",
       "\n",
       "    .dataframe thead th {\n",
       "        text-align: right;\n",
       "    }\n",
       "</style>\n",
       "<table border=\"1\" class=\"dataframe\">\n",
       "  <thead>\n",
       "    <tr style=\"text-align: right;\">\n",
       "      <th></th>\n",
       "      <th>product_code</th>\n",
       "      <th>product_type</th>\n",
       "    </tr>\n",
       "  </thead>\n",
       "  <tbody>\n",
       "    <tr>\n",
       "      <th>135</th>\n",
       "      <td>Prod136</td>\n",
       "      <td>Own Brand\\r</td>\n",
       "    </tr>\n",
       "    <tr>\n",
       "      <th>236</th>\n",
       "      <td>Prod237</td>\n",
       "      <td>Distribution\\r</td>\n",
       "    </tr>\n",
       "    <tr>\n",
       "      <th>276</th>\n",
       "      <td>Prod277</td>\n",
       "      <td>Own Brand\\r</td>\n",
       "    </tr>\n",
       "    <tr>\n",
       "      <th>93</th>\n",
       "      <td>Prod094</td>\n",
       "      <td>Own Brand\\r</td>\n",
       "    </tr>\n",
       "    <tr>\n",
       "      <th>85</th>\n",
       "      <td>Prod086</td>\n",
       "      <td>Own Brand\\r</td>\n",
       "    </tr>\n",
       "  </tbody>\n",
       "</table>\n",
       "</div>"
      ],
      "text/plain": [
       "    product_code    product_type\n",
       "135      Prod136     Own Brand\\r\n",
       "236      Prod237  Distribution\\r\n",
       "276      Prod277     Own Brand\\r\n",
       "93       Prod094     Own Brand\\r\n",
       "85       Prod086     Own Brand\\r"
      ]
     },
     "execution_count": 5,
     "metadata": {},
     "output_type": "execute_result"
    }
   ],
   "source": [
    "products_df.sample(5)"
   ]
  },
  {
   "cell_type": "code",
   "execution_count": 6,
   "id": "fb615b86",
   "metadata": {},
   "outputs": [
    {
     "data": {
      "text/html": [
       "<div>\n",
       "<style scoped>\n",
       "    .dataframe tbody tr th:only-of-type {\n",
       "        vertical-align: middle;\n",
       "    }\n",
       "\n",
       "    .dataframe tbody tr th {\n",
       "        vertical-align: top;\n",
       "    }\n",
       "\n",
       "    .dataframe thead th {\n",
       "        text-align: right;\n",
       "    }\n",
       "</style>\n",
       "<table border=\"1\" class=\"dataframe\">\n",
       "  <thead>\n",
       "    <tr style=\"text-align: right;\">\n",
       "      <th></th>\n",
       "      <th>date</th>\n",
       "      <th>cy_date</th>\n",
       "      <th>year</th>\n",
       "      <th>month_name</th>\n",
       "      <th>date_yy_mmm</th>\n",
       "    </tr>\n",
       "  </thead>\n",
       "  <tbody>\n",
       "    <tr>\n",
       "      <th>745</th>\n",
       "      <td>2019-06-16</td>\n",
       "      <td>2019-06-01</td>\n",
       "      <td>2019</td>\n",
       "      <td>June</td>\n",
       "      <td>19-Jun\\r</td>\n",
       "    </tr>\n",
       "    <tr>\n",
       "      <th>893</th>\n",
       "      <td>2019-11-11</td>\n",
       "      <td>2019-11-01</td>\n",
       "      <td>2019</td>\n",
       "      <td>November</td>\n",
       "      <td>19-Nov\\r</td>\n",
       "    </tr>\n",
       "    <tr>\n",
       "      <th>615</th>\n",
       "      <td>2019-02-06</td>\n",
       "      <td>2019-02-01</td>\n",
       "      <td>2019</td>\n",
       "      <td>February</td>\n",
       "      <td>19-Feb\\r</td>\n",
       "    </tr>\n",
       "    <tr>\n",
       "      <th>414</th>\n",
       "      <td>2018-07-20</td>\n",
       "      <td>2018-07-01</td>\n",
       "      <td>2018</td>\n",
       "      <td>July</td>\n",
       "      <td>18-Jul\\r</td>\n",
       "    </tr>\n",
       "    <tr>\n",
       "      <th>338</th>\n",
       "      <td>2018-05-05</td>\n",
       "      <td>2018-05-01</td>\n",
       "      <td>2018</td>\n",
       "      <td>May</td>\n",
       "      <td>18-May\\r</td>\n",
       "    </tr>\n",
       "  </tbody>\n",
       "</table>\n",
       "</div>"
      ],
      "text/plain": [
       "           date     cy_date  year month_name date_yy_mmm\n",
       "745  2019-06-16  2019-06-01  2019       June    19-Jun\\r\n",
       "893  2019-11-11  2019-11-01  2019   November    19-Nov\\r\n",
       "615  2019-02-06  2019-02-01  2019   February    19-Feb\\r\n",
       "414  2018-07-20  2018-07-01  2018       July    18-Jul\\r\n",
       "338  2018-05-05  2018-05-01  2018        May    18-May\\r"
      ]
     },
     "execution_count": 6,
     "metadata": {},
     "output_type": "execute_result"
    }
   ],
   "source": [
    "date_df.sample(5)"
   ]
  },
  {
   "cell_type": "code",
   "execution_count": 7,
   "id": "f0fca00e",
   "metadata": {},
   "outputs": [
    {
     "data": {
      "text/html": [
       "<div>\n",
       "<style scoped>\n",
       "    .dataframe tbody tr th:only-of-type {\n",
       "        vertical-align: middle;\n",
       "    }\n",
       "\n",
       "    .dataframe tbody tr th {\n",
       "        vertical-align: top;\n",
       "    }\n",
       "\n",
       "    .dataframe thead th {\n",
       "        text-align: right;\n",
       "    }\n",
       "</style>\n",
       "<table border=\"1\" class=\"dataframe\">\n",
       "  <thead>\n",
       "    <tr style=\"text-align: right;\">\n",
       "      <th></th>\n",
       "      <th>customer_code</th>\n",
       "      <th>custmer_name</th>\n",
       "      <th>customer_type</th>\n",
       "    </tr>\n",
       "  </thead>\n",
       "  <tbody>\n",
       "    <tr>\n",
       "      <th>27</th>\n",
       "      <td>Cus028</td>\n",
       "      <td>Sage</td>\n",
       "      <td>E-Commerce</td>\n",
       "    </tr>\n",
       "    <tr>\n",
       "      <th>2</th>\n",
       "      <td>Cus003</td>\n",
       "      <td>Excel Stores</td>\n",
       "      <td>Brick &amp; Mortar</td>\n",
       "    </tr>\n",
       "    <tr>\n",
       "      <th>6</th>\n",
       "      <td>Cus007</td>\n",
       "      <td>Info Stores</td>\n",
       "      <td>Brick &amp; Mortar</td>\n",
       "    </tr>\n",
       "    <tr>\n",
       "      <th>29</th>\n",
       "      <td>Cus030</td>\n",
       "      <td>Synthetic</td>\n",
       "      <td>E-Commerce</td>\n",
       "    </tr>\n",
       "    <tr>\n",
       "      <th>9</th>\n",
       "      <td>Cus010</td>\n",
       "      <td>Atlas Stores</td>\n",
       "      <td>Brick &amp; Mortar</td>\n",
       "    </tr>\n",
       "  </tbody>\n",
       "</table>\n",
       "</div>"
      ],
      "text/plain": [
       "   customer_code  custmer_name   customer_type\n",
       "27        Cus028          Sage      E-Commerce\n",
       "2         Cus003  Excel Stores  Brick & Mortar\n",
       "6         Cus007   Info Stores  Brick & Mortar\n",
       "29        Cus030     Synthetic      E-Commerce\n",
       "9         Cus010  Atlas Stores  Brick & Mortar"
      ]
     },
     "execution_count": 7,
     "metadata": {},
     "output_type": "execute_result"
    }
   ],
   "source": [
    "customers_df.sample(5)"
   ]
  },
  {
   "cell_type": "markdown",
   "id": "f7872eae",
   "metadata": {},
   "source": [
    "TRANSACTIONS DATA"
   ]
  },
  {
   "cell_type": "code",
   "execution_count": 8,
   "id": "78390f39",
   "metadata": {
    "scrolled": true
   },
   "outputs": [
    {
     "name": "stdout",
     "output_type": "stream",
     "text": [
      "<class 'pandas.core.frame.DataFrame'>\n",
      "RangeIndex: 148395 entries, 0 to 148394\n",
      "Data columns (total 10 columns):\n",
      " #   Column         Non-Null Count   Dtype  \n",
      "---  ------         --------------   -----  \n",
      " 0   product_code   148395 non-null  object \n",
      " 1   customer_code  148395 non-null  object \n",
      " 2   market_code    148395 non-null  object \n",
      " 3   order_date     148395 non-null  object \n",
      " 4   sales_qty      148395 non-null  int64  \n",
      " 5   sales_amount   148395 non-null  int64  \n",
      " 6   currency       148395 non-null  object \n",
      " 7   profit_margin  148395 non-null  float64\n",
      " 8   profit         148395 non-null  float64\n",
      " 9   cost_price     148395 non-null  float64\n",
      "dtypes: float64(3), int64(2), object(5)\n",
      "memory usage: 11.3+ MB\n"
     ]
    }
   ],
   "source": [
    "#Step4- complete information about data(finding issues)-info,describe,null,notnull,duplicate,frequency,format of categorical data\n",
    "transactions_df.info()"
   ]
  },
  {
   "cell_type": "code",
   "execution_count": 9,
   "id": "5d077d8b",
   "metadata": {
    "scrolled": true
   },
   "outputs": [
    {
     "data": {
      "text/html": [
       "<div>\n",
       "<style scoped>\n",
       "    .dataframe tbody tr th:only-of-type {\n",
       "        vertical-align: middle;\n",
       "    }\n",
       "\n",
       "    .dataframe tbody tr th {\n",
       "        vertical-align: top;\n",
       "    }\n",
       "\n",
       "    .dataframe thead th {\n",
       "        text-align: right;\n",
       "    }\n",
       "</style>\n",
       "<table border=\"1\" class=\"dataframe\">\n",
       "  <thead>\n",
       "    <tr style=\"text-align: right;\">\n",
       "      <th></th>\n",
       "      <th>sales_qty</th>\n",
       "      <th>sales_amount</th>\n",
       "      <th>profit_margin</th>\n",
       "      <th>profit</th>\n",
       "      <th>cost_price</th>\n",
       "    </tr>\n",
       "  </thead>\n",
       "  <tbody>\n",
       "    <tr>\n",
       "      <th>count</th>\n",
       "      <td>148395.000000</td>\n",
       "      <td>1.483950e+05</td>\n",
       "      <td>148395.000000</td>\n",
       "      <td>148395.000000</td>\n",
       "      <td>1.483950e+05</td>\n",
       "    </tr>\n",
       "    <tr>\n",
       "      <th>mean</th>\n",
       "      <td>16.370376</td>\n",
       "      <td>6.636433e+03</td>\n",
       "      <td>0.024448</td>\n",
       "      <td>166.158350</td>\n",
       "      <td>6.470649e+03</td>\n",
       "    </tr>\n",
       "    <tr>\n",
       "      <th>std</th>\n",
       "      <td>115.394269</td>\n",
       "      <td>3.008649e+04</td>\n",
       "      <td>0.218956</td>\n",
       "      <td>6850.373158</td>\n",
       "      <td>2.977992e+04</td>\n",
       "    </tr>\n",
       "    <tr>\n",
       "      <th>min</th>\n",
       "      <td>1.000000</td>\n",
       "      <td>5.000000e+00</td>\n",
       "      <td>-0.350000</td>\n",
       "      <td>-369348.500000</td>\n",
       "      <td>3.050000e+00</td>\n",
       "    </tr>\n",
       "    <tr>\n",
       "      <th>25%</th>\n",
       "      <td>1.000000</td>\n",
       "      <td>1.760000e+02</td>\n",
       "      <td>-0.160000</td>\n",
       "      <td>-67.320000</td>\n",
       "      <td>1.665000e+02</td>\n",
       "    </tr>\n",
       "    <tr>\n",
       "      <th>50%</th>\n",
       "      <td>1.000000</td>\n",
       "      <td>5.190000e+02</td>\n",
       "      <td>0.020000</td>\n",
       "      <td>5.550000</td>\n",
       "      <td>5.082600e+02</td>\n",
       "    </tr>\n",
       "    <tr>\n",
       "      <th>75%</th>\n",
       "      <td>7.000000</td>\n",
       "      <td>3.065000e+03</td>\n",
       "      <td>0.210000</td>\n",
       "      <td>105.600000</td>\n",
       "      <td>2.907130e+03</td>\n",
       "    </tr>\n",
       "    <tr>\n",
       "      <th>max</th>\n",
       "      <td>14049.000000</td>\n",
       "      <td>1.510944e+06</td>\n",
       "      <td>0.400000</td>\n",
       "      <td>481775.040000</td>\n",
       "      <td>1.846742e+06</td>\n",
       "    </tr>\n",
       "  </tbody>\n",
       "</table>\n",
       "</div>"
      ],
      "text/plain": [
       "           sales_qty  sales_amount  profit_margin         profit    cost_price\n",
       "count  148395.000000  1.483950e+05  148395.000000  148395.000000  1.483950e+05\n",
       "mean       16.370376  6.636433e+03       0.024448     166.158350  6.470649e+03\n",
       "std       115.394269  3.008649e+04       0.218956    6850.373158  2.977992e+04\n",
       "min         1.000000  5.000000e+00      -0.350000 -369348.500000  3.050000e+00\n",
       "25%         1.000000  1.760000e+02      -0.160000     -67.320000  1.665000e+02\n",
       "50%         1.000000  5.190000e+02       0.020000       5.550000  5.082600e+02\n",
       "75%         7.000000  3.065000e+03       0.210000     105.600000  2.907130e+03\n",
       "max     14049.000000  1.510944e+06       0.400000  481775.040000  1.846742e+06"
      ]
     },
     "execution_count": 9,
     "metadata": {},
     "output_type": "execute_result"
    }
   ],
   "source": [
    "transactions_df.describe()"
   ]
  },
  {
   "cell_type": "code",
   "execution_count": 10,
   "id": "b6f6accc",
   "metadata": {},
   "outputs": [
    {
     "data": {
      "image/png": "[encoded data removed]",
      "text/plain": [
       "<Figure size 640x480 with 1 Axes>"
      ]
     },
     "metadata": {},
     "output_type": "display_data"
    }
   ],
   "source": [
    "#OUTLIERS HANDLING\n",
    "df1=transactions_df[\"sales_qty\"]\n",
    "plt.boxplot(df1)\n",
    "plt.grid()\n",
    "plt.show()"
   ]
  },
  {
   "cell_type": "code",
   "execution_count": 11,
   "id": "084efd31",
   "metadata": {},
   "outputs": [],
   "source": [
    "q75,q25=np.percentile(df1,[75,25])"
   ]
  },
  {
   "cell_type": "code",
   "execution_count": 12,
   "id": "0c65993f",
   "metadata": {},
   "outputs": [
    {
     "data": {
      "text/plain": [
       "7.0"
      ]
     },
     "execution_count": 12,
     "metadata": {},
     "output_type": "execute_result"
    }
   ],
   "source": [
    "q75"
   ]
  },
  {
   "cell_type": "code",
   "execution_count": 13,
   "id": "b4e83324",
   "metadata": {},
   "outputs": [
    {
     "data": {
      "text/plain": [
       "1.0"
      ]
     },
     "execution_count": 13,
     "metadata": {},
     "output_type": "execute_result"
    }
   ],
   "source": [
    "q25"
   ]
  },
  {
   "cell_type": "code",
   "execution_count": 14,
   "id": "ee88ce0d",
   "metadata": {},
   "outputs": [
    {
     "data": {
      "text/plain": [
       "6.0"
      ]
     },
     "execution_count": 14,
     "metadata": {},
     "output_type": "execute_result"
    }
   ],
   "source": [
    "IQR=q75-q25\n",
    "IQR"
   ]
  },
  {
   "cell_type": "code",
   "execution_count": 15,
   "id": "0de68fd2",
   "metadata": {},
   "outputs": [
    {
     "data": {
      "text/plain": [
       "-8.0"
      ]
     },
     "execution_count": 15,
     "metadata": {},
     "output_type": "execute_result"
    }
   ],
   "source": [
    "q0=q25-(IQR*1.5)\n",
    "q0"
   ]
  },
  {
   "cell_type": "code",
   "execution_count": 16,
   "id": "afa09573",
   "metadata": {},
   "outputs": [
    {
     "data": {
      "text/plain": [
       "16.0"
      ]
     },
     "execution_count": 16,
     "metadata": {},
     "output_type": "execute_result"
    }
   ],
   "source": [
    "q100=q75+(IQR*1.5)\n",
    "q100"
   ]
  },
  {
   "cell_type": "code",
   "execution_count": 17,
   "id": "8bf4896a",
   "metadata": {},
   "outputs": [
    {
     "data": {
      "text/plain": [
       "0         1\n",
       "1         1\n",
       "2         1\n",
       "3         1\n",
       "4         1\n",
       "         ..\n",
       "147901    7\n",
       "147902    7\n",
       "147903    7\n",
       "147904    7\n",
       "147905    7\n",
       "Name: sales_qty, Length: 126328, dtype: int64"
      ]
     },
     "execution_count": 17,
     "metadata": {},
     "output_type": "execute_result"
    }
   ],
   "source": [
    "fdf=df1[(df1<=q100) & (df1>=q0)]  #df created without outliers\n",
    "fdf"
   ]
  },
  {
   "cell_type": "code",
   "execution_count": 18,
   "id": "fd0fb471",
   "metadata": {},
   "outputs": [
    {
     "data": {
      "image/png": "[encoded data removed]",
      "text/plain": [
       "<Figure size 640x480 with 1 Axes>"
      ]
     },
     "metadata": {},
     "output_type": "display_data"
    }
   ],
   "source": [
    "plt.boxplot(fdf)\n",
    "plt.grid()\n",
    "plt.show()"
   ]
  },
  {
   "cell_type": "code",
   "execution_count": 19,
   "id": "97d2ad64",
   "metadata": {
    "scrolled": true
   },
   "outputs": [
    {
     "data": {
      "text/plain": [
       "product_code     0\n",
       "customer_code    0\n",
       "market_code      0\n",
       "order_date       0\n",
       "sales_qty        0\n",
       "sales_amount     0\n",
       "currency         0\n",
       "profit_margin    0\n",
       "profit           0\n",
       "cost_price       0\n",
       "dtype: int64"
      ]
     },
     "execution_count": 19,
     "metadata": {},
     "output_type": "execute_result"
    }
   ],
   "source": [
    "transactions_df.isnull().sum()"
   ]
  },
  {
   "cell_type": "code",
   "execution_count": 20,
   "id": "b1804042",
   "metadata": {},
   "outputs": [
    {
     "data": {
      "text/plain": [
       "product_code     148395\n",
       "customer_code    148395\n",
       "market_code      148395\n",
       "order_date       148395\n",
       "sales_qty        148395\n",
       "sales_amount     148395\n",
       "currency         148395\n",
       "profit_margin    148395\n",
       "profit           148395\n",
       "cost_price       148395\n",
       "dtype: int64"
      ]
     },
     "execution_count": 20,
     "metadata": {},
     "output_type": "execute_result"
    }
   ],
   "source": [
    "transactions_df.notnull().sum()"
   ]
  },
  {
   "cell_type": "code",
   "execution_count": 21,
   "id": "83b2905a",
   "metadata": {
    "scrolled": true
   },
   "outputs": [
    {
     "data": {
      "text/plain": [
       "0"
      ]
     },
     "execution_count": 21,
     "metadata": {},
     "output_type": "execute_result"
    }
   ],
   "source": [
    "transactions_df.duplicated().sum() #no duplicate row"
   ]
  },
  {
   "cell_type": "code",
   "execution_count": 22,
   "id": "eca3ffda",
   "metadata": {},
   "outputs": [
    {
     "data": {
      "text/plain": [
       "array(['INR', 'USD'], dtype=object)"
      ]
     },
     "execution_count": 22,
     "metadata": {},
     "output_type": "execute_result"
    }
   ],
   "source": [
    "#Handling INR,USD data\n",
    "transactions_df[\"currency\"].unique()"
   ]
  },
  {
   "cell_type": "code",
   "execution_count": 23,
   "id": "ebe784c7",
   "metadata": {},
   "outputs": [
    {
     "data": {
      "text/plain": [
       "currency\n",
       "INR    148393\n",
       "USD         2\n",
       "Name: count, dtype: int64"
      ]
     },
     "execution_count": 23,
     "metadata": {},
     "output_type": "execute_result"
    }
   ],
   "source": [
    "transactions_df[\"currency\"].value_counts()"
   ]
  },
  {
   "cell_type": "code",
   "execution_count": 24,
   "id": "41a7deca",
   "metadata": {},
   "outputs": [
    {
     "data": {
      "text/html": [
       "<div>\n",
       "<style scoped>\n",
       "    .dataframe tbody tr th:only-of-type {\n",
       "        vertical-align: middle;\n",
       "    }\n",
       "\n",
       "    .dataframe tbody tr th {\n",
       "        vertical-align: top;\n",
       "    }\n",
       "\n",
       "    .dataframe thead th {\n",
       "        text-align: right;\n",
       "    }\n",
       "</style>\n",
       "<table border=\"1\" class=\"dataframe\">\n",
       "  <thead>\n",
       "    <tr style=\"text-align: right;\">\n",
       "      <th></th>\n",
       "      <th>product_code</th>\n",
       "      <th>customer_code</th>\n",
       "      <th>market_code</th>\n",
       "      <th>order_date</th>\n",
       "      <th>sales_qty</th>\n",
       "      <th>sales_amount</th>\n",
       "      <th>currency</th>\n",
       "      <th>profit_margin</th>\n",
       "      <th>profit</th>\n",
       "      <th>cost_price</th>\n",
       "    </tr>\n",
       "  </thead>\n",
       "  <tbody>\n",
       "    <tr>\n",
       "      <th>135937</th>\n",
       "      <td>Prod003</td>\n",
       "      <td>Cus005</td>\n",
       "      <td>Mark004</td>\n",
       "      <td>2017-11-20</td>\n",
       "      <td>59</td>\n",
       "      <td>500</td>\n",
       "      <td>USD</td>\n",
       "      <td>0.31</td>\n",
       "      <td>11625.0</td>\n",
       "      <td>25875.0</td>\n",
       "    </tr>\n",
       "    <tr>\n",
       "      <th>135938</th>\n",
       "      <td>Prod003</td>\n",
       "      <td>Cus005</td>\n",
       "      <td>Mark004</td>\n",
       "      <td>2017-11-22</td>\n",
       "      <td>36</td>\n",
       "      <td>250</td>\n",
       "      <td>USD</td>\n",
       "      <td>0.17</td>\n",
       "      <td>3187.5</td>\n",
       "      <td>15562.5</td>\n",
       "    </tr>\n",
       "  </tbody>\n",
       "</table>\n",
       "</div>"
      ],
      "text/plain": [
       "       product_code customer_code market_code  order_date  sales_qty  \\\n",
       "135937      Prod003        Cus005     Mark004  2017-11-20         59   \n",
       "135938      Prod003        Cus005     Mark004  2017-11-22         36   \n",
       "\n",
       "        sales_amount currency  profit_margin   profit  cost_price  \n",
       "135937           500      USD           0.31  11625.0     25875.0  \n",
       "135938           250      USD           0.17   3187.5     15562.5  "
      ]
     },
     "execution_count": 24,
     "metadata": {},
     "output_type": "execute_result"
    }
   ],
   "source": [
    "transactions_df[transactions_df[\"currency\"]==\"USD\"]"
   ]
  },
  {
   "cell_type": "code",
   "execution_count": 25,
   "id": "a83a882d",
   "metadata": {},
   "outputs": [],
   "source": [
    "transactions_df.drop(transactions_df[transactions_df[\"currency\"]==\"USD\"].index,inplace=True)"
   ]
  },
  {
   "cell_type": "code",
   "execution_count": 26,
   "id": "86638b40",
   "metadata": {},
   "outputs": [
    {
     "data": {
      "text/plain": [
       "array(['INR'], dtype=object)"
      ]
     },
     "execution_count": 26,
     "metadata": {},
     "output_type": "execute_result"
    }
   ],
   "source": [
    "transactions_df[\"currency\"].unique()"
   ]
  },
  {
   "cell_type": "code",
   "execution_count": 27,
   "id": "59e3d058",
   "metadata": {},
   "outputs": [],
   "source": [
    "transactions_df[\"product_code customer_code market_code currency\".split()]=transactions_df[\"product_code customer_code market_code currency\".split()].astype(\"string\")"
   ]
  },
  {
   "cell_type": "code",
   "execution_count": 28,
   "id": "81dc4204",
   "metadata": {},
   "outputs": [
    {
     "name": "stdout",
     "output_type": "stream",
     "text": [
      "<class 'pandas.core.frame.DataFrame'>\n",
      "Index: 148393 entries, 0 to 148394\n",
      "Data columns (total 10 columns):\n",
      " #   Column         Non-Null Count   Dtype  \n",
      "---  ------         --------------   -----  \n",
      " 0   product_code   148393 non-null  string \n",
      " 1   customer_code  148393 non-null  string \n",
      " 2   market_code    148393 non-null  string \n",
      " 3   order_date     148393 non-null  object \n",
      " 4   sales_qty      148393 non-null  int64  \n",
      " 5   sales_amount   148393 non-null  int64  \n",
      " 6   currency       148393 non-null  string \n",
      " 7   profit_margin  148393 non-null  float64\n",
      " 8   profit         148393 non-null  float64\n",
      " 9   cost_price     148393 non-null  float64\n",
      "dtypes: float64(3), int64(2), object(1), string(4)\n",
      "memory usage: 12.5+ MB\n"
     ]
    }
   ],
   "source": [
    "transactions_df.info()"
   ]
  },
  {
   "cell_type": "code",
   "execution_count": 29,
   "id": "5788c491",
   "metadata": {},
   "outputs": [],
   "source": [
    "transactions_df[\"order_date\"]=pd.to_datetime(transactions_df[\"order_date\"])"
   ]
  },
  {
   "cell_type": "code",
   "execution_count": null,
   "id": "6dbffc1b",
   "metadata": {},
   "outputs": [],
   "source": []
  },
  {
   "cell_type": "code",
   "execution_count": null,
   "id": "a4540c48",
   "metadata": {},
   "outputs": [],
   "source": []
  },
  {
   "cell_type": "code",
   "execution_count": null,
   "id": "fefd5aa5",
   "metadata": {},
   "outputs": [],
   "source": []
  },
  {
   "cell_type": "markdown",
   "id": "2d5a7460",
   "metadata": {},
   "source": [
    "MARKETS DATA"
   ]
  },
  {
   "cell_type": "code",
   "execution_count": 30,
   "id": "d8cfe3d1",
   "metadata": {},
   "outputs": [
    {
     "data": {
      "text/html": [
       "<div>\n",
       "<style scoped>\n",
       "    .dataframe tbody tr th:only-of-type {\n",
       "        vertical-align: middle;\n",
       "    }\n",
       "\n",
       "    .dataframe tbody tr th {\n",
       "        vertical-align: top;\n",
       "    }\n",
       "\n",
       "    .dataframe thead th {\n",
       "        text-align: right;\n",
       "    }\n",
       "</style>\n",
       "<table border=\"1\" class=\"dataframe\">\n",
       "  <thead>\n",
       "    <tr style=\"text-align: right;\">\n",
       "      <th></th>\n",
       "      <th>markets_code</th>\n",
       "      <th>markets_name</th>\n",
       "      <th>zone</th>\n",
       "    </tr>\n",
       "  </thead>\n",
       "  <tbody>\n",
       "    <tr>\n",
       "      <th>13</th>\n",
       "      <td>Mark014</td>\n",
       "      <td>Hyderabad</td>\n",
       "      <td>South</td>\n",
       "    </tr>\n",
       "    <tr>\n",
       "      <th>16</th>\n",
       "      <td>Mark999</td>\n",
       "      <td>Paris</td>\n",
       "      <td>NaN</td>\n",
       "    </tr>\n",
       "    <tr>\n",
       "      <th>4</th>\n",
       "      <td>Mark005</td>\n",
       "      <td>Kanpur</td>\n",
       "      <td>North</td>\n",
       "    </tr>\n",
       "    <tr>\n",
       "      <th>15</th>\n",
       "      <td>Mark097</td>\n",
       "      <td>New York</td>\n",
       "      <td>NaN</td>\n",
       "    </tr>\n",
       "    <tr>\n",
       "      <th>2</th>\n",
       "      <td>Mark003</td>\n",
       "      <td>Ahmedabad</td>\n",
       "      <td>North</td>\n",
       "    </tr>\n",
       "    <tr>\n",
       "      <th>9</th>\n",
       "      <td>Mark010</td>\n",
       "      <td>Kochi</td>\n",
       "      <td>South</td>\n",
       "    </tr>\n",
       "    <tr>\n",
       "      <th>6</th>\n",
       "      <td>Mark007</td>\n",
       "      <td>Bhopal</td>\n",
       "      <td>Central</td>\n",
       "    </tr>\n",
       "    <tr>\n",
       "      <th>8</th>\n",
       "      <td>Mark009</td>\n",
       "      <td>Patna</td>\n",
       "      <td>North</td>\n",
       "    </tr>\n",
       "    <tr>\n",
       "      <th>1</th>\n",
       "      <td>Mark002</td>\n",
       "      <td>Mumbai</td>\n",
       "      <td>Central</td>\n",
       "    </tr>\n",
       "    <tr>\n",
       "      <th>7</th>\n",
       "      <td>Mark008</td>\n",
       "      <td>Lucknow</td>\n",
       "      <td>North</td>\n",
       "    </tr>\n",
       "  </tbody>\n",
       "</table>\n",
       "</div>"
      ],
      "text/plain": [
       "   markets_code markets_name     zone\n",
       "13      Mark014    Hyderabad    South\n",
       "16      Mark999        Paris      NaN\n",
       "4       Mark005       Kanpur    North\n",
       "15      Mark097     New York      NaN\n",
       "2       Mark003    Ahmedabad    North\n",
       "9       Mark010        Kochi    South\n",
       "6       Mark007       Bhopal  Central\n",
       "8       Mark009        Patna    North\n",
       "1       Mark002       Mumbai  Central\n",
       "7       Mark008      Lucknow    North"
      ]
     },
     "execution_count": 30,
     "metadata": {},
     "output_type": "execute_result"
    }
   ],
   "source": [
    "markets_df.sample(10)"
   ]
  },
  {
   "cell_type": "code",
   "execution_count": 31,
   "id": "9a43cf55",
   "metadata": {},
   "outputs": [
    {
     "name": "stdout",
     "output_type": "stream",
     "text": [
      "<class 'pandas.core.frame.DataFrame'>\n",
      "RangeIndex: 17 entries, 0 to 16\n",
      "Data columns (total 3 columns):\n",
      " #   Column        Non-Null Count  Dtype \n",
      "---  ------        --------------  ----- \n",
      " 0   markets_code  17 non-null     object\n",
      " 1   markets_name  17 non-null     object\n",
      " 2   zone          15 non-null     object\n",
      "dtypes: object(3)\n",
      "memory usage: 540.0+ bytes\n"
     ]
    }
   ],
   "source": [
    "markets_df.info()"
   ]
  },
  {
   "cell_type": "code",
   "execution_count": 32,
   "id": "029671db",
   "metadata": {},
   "outputs": [
    {
     "data": {
      "text/plain": [
       "markets_code    0\n",
       "markets_name    0\n",
       "zone            2\n",
       "dtype: int64"
      ]
     },
     "execution_count": 32,
     "metadata": {},
     "output_type": "execute_result"
    }
   ],
   "source": [
    "markets_df.isnull().sum()"
   ]
  },
  {
   "cell_type": "code",
   "execution_count": 33,
   "id": "8e8f830f",
   "metadata": {},
   "outputs": [],
   "source": [
    "markets_df[\"zone\"]=markets_df[\"zone\"].ffill()"
   ]
  },
  {
   "cell_type": "code",
   "execution_count": 34,
   "id": "90bc8822",
   "metadata": {},
   "outputs": [],
   "source": [
    "markets_df[\"markets_code markets_name zone\".split()]=markets_df[\"markets_code markets_name zone\".split()].astype(\"string\")"
   ]
  },
  {
   "cell_type": "code",
   "execution_count": 35,
   "id": "ac02a8fa",
   "metadata": {
    "scrolled": false
   },
   "outputs": [
    {
     "name": "stdout",
     "output_type": "stream",
     "text": [
      "<class 'pandas.core.frame.DataFrame'>\n",
      "RangeIndex: 17 entries, 0 to 16\n",
      "Data columns (total 3 columns):\n",
      " #   Column        Non-Null Count  Dtype \n",
      "---  ------        --------------  ----- \n",
      " 0   markets_code  17 non-null     string\n",
      " 1   markets_name  17 non-null     string\n",
      " 2   zone          17 non-null     string\n",
      "dtypes: string(3)\n",
      "memory usage: 540.0 bytes\n"
     ]
    }
   ],
   "source": [
    "markets_df.info()"
   ]
  },
  {
   "cell_type": "code",
   "execution_count": 36,
   "id": "af8367b3",
   "metadata": {},
   "outputs": [
    {
     "data": {
      "text/plain": [
       "1"
      ]
     },
     "execution_count": 36,
     "metadata": {},
     "output_type": "execute_result"
    }
   ],
   "source": [
    "markets_df[\"markets_name\"].duplicated().sum()"
   ]
  },
  {
   "cell_type": "code",
   "execution_count": 37,
   "id": "017cbba8",
   "metadata": {
    "scrolled": true
   },
   "outputs": [
    {
     "data": {
      "text/plain": [
       "<StringArray>\n",
       "[     'Chennai',       'Mumbai',    'Ahmedabad',    'Delhi NCR',\n",
       "       'Kanpur',    'Bengaluru',       'Bhopal',      'Lucknow',\n",
       "        'Patna',        'Kochi',       'Nagpur',        'Surat',\n",
       "    'Hyderabad', 'Bhubaneshwar',     'New York',        'Paris']\n",
       "Length: 16, dtype: string"
      ]
     },
     "execution_count": 37,
     "metadata": {},
     "output_type": "execute_result"
    }
   ],
   "source": [
    "markets_df[\"markets_name\"].unique()"
   ]
  },
  {
   "cell_type": "code",
   "execution_count": 38,
   "id": "7cf9446f",
   "metadata": {},
   "outputs": [
    {
     "data": {
      "text/plain": [
       "<StringArray>\n",
       "['South', 'Central', 'North']\n",
       "Length: 3, dtype: string"
      ]
     },
     "execution_count": 38,
     "metadata": {},
     "output_type": "execute_result"
    }
   ],
   "source": [
    "markets_df[\"zone\"].unique()"
   ]
  },
  {
   "cell_type": "code",
   "execution_count": 39,
   "id": "e669a9a7",
   "metadata": {},
   "outputs": [
    {
     "data": {
      "text/plain": [
       "zone\n",
       "South      7\n",
       "North      6\n",
       "Central    4\n",
       "Name: count, dtype: Int64"
      ]
     },
     "execution_count": 39,
     "metadata": {},
     "output_type": "execute_result"
    }
   ],
   "source": [
    "markets_df[\"zone\"].value_counts()"
   ]
  },
  {
   "cell_type": "code",
   "execution_count": 52,
   "id": "35f79f4d",
   "metadata": {},
   "outputs": [
    {
     "data": {
      "image/png": "[encoded data removed]",
      "text/plain": [
       "<Figure size 640x480 with 1 Axes>"
      ]
     },
     "metadata": {},
     "output_type": "display_data"
    }
   ],
   "source": [
    "typem=['South', 'Central', 'North']\n",
    "count=[7,6,4]\n",
    "plt.pie(count,labels=typem,autopct=\"%.3f%%\")\n",
    "plt.grid()\n",
    "plt.show()"
   ]
  },
  {
   "cell_type": "markdown",
   "id": "b1bc6735",
   "metadata": {},
   "source": [
    "PRODUCTS DATA"
   ]
  },
  {
   "cell_type": "code",
   "execution_count": null,
   "id": "719d0a19",
   "metadata": {},
   "outputs": [],
   "source": [
    "products_df.sample(5)"
   ]
  },
  {
   "cell_type": "code",
   "execution_count": null,
   "id": "8ef6f65e",
   "metadata": {
    "scrolled": true
   },
   "outputs": [],
   "source": [
    "products_df.info()"
   ]
  },
  {
   "cell_type": "code",
   "execution_count": null,
   "id": "01771fff",
   "metadata": {},
   "outputs": [],
   "source": [
    "products_df[\"product_type\"].unique()"
   ]
  },
  {
   "cell_type": "code",
   "execution_count": null,
   "id": "6ccc09b1",
   "metadata": {},
   "outputs": [],
   "source": [
    "products_df[\"product_type\"].value_counts()"
   ]
  },
  {
   "cell_type": "code",
   "execution_count": null,
   "id": "2b148344",
   "metadata": {},
   "outputs": [],
   "source": [
    "typep=[\"Own Brand\",\"Distribution\"]\n",
    "count=[191,81]\n",
    "plt.pie(count,labels=typep,autopct=\"%1.1f%%\")\n",
    "plt.grid()\n",
    "plt.show()"
   ]
  },
  {
   "cell_type": "markdown",
   "id": "0370c3c8",
   "metadata": {},
   "source": [
    "DATE DATA"
   ]
  },
  {
   "cell_type": "code",
   "execution_count": null,
   "id": "6c1ce4e3",
   "metadata": {},
   "outputs": [],
   "source": [
    "date_df.sample(5)"
   ]
  },
  {
   "cell_type": "code",
   "execution_count": null,
   "id": "48f25bac",
   "metadata": {
    "scrolled": true
   },
   "outputs": [],
   "source": [
    "date_df.info()"
   ]
  },
  {
   "cell_type": "code",
   "execution_count": null,
   "id": "2afca52d",
   "metadata": {},
   "outputs": [],
   "source": [
    "date_df[\"date\"]=pd.to_datetime(date_df[\"date\"])"
   ]
  },
  {
   "cell_type": "code",
   "execution_count": null,
   "id": "9ead3c8e",
   "metadata": {},
   "outputs": [],
   "source": [
    "date_df[\"cy_date\"]=pd.to_datetime(date_df[\"cy_date\"])"
   ]
  },
  {
   "cell_type": "code",
   "execution_count": null,
   "id": "d6866149",
   "metadata": {},
   "outputs": [],
   "source": []
  },
  {
   "cell_type": "code",
   "execution_count": null,
   "id": "b064c866",
   "metadata": {},
   "outputs": [],
   "source": []
  },
  {
   "cell_type": "markdown",
   "id": "78903b4e",
   "metadata": {},
   "source": [
    "CUSTOMERS DATA"
   ]
  },
  {
   "cell_type": "code",
   "execution_count": null,
   "id": "2b214fd2",
   "metadata": {},
   "outputs": [],
   "source": [
    "customers_df.sample(5)"
   ]
  },
  {
   "cell_type": "code",
   "execution_count": null,
   "id": "31dae0d4",
   "metadata": {},
   "outputs": [],
   "source": [
    "customers_df.info()"
   ]
  },
  {
   "cell_type": "code",
   "execution_count": null,
   "id": "12f195e5",
   "metadata": {},
   "outputs": [],
   "source": [
    "customers_df[\"customer_code custmer_name customer_type\".split()]=customers_df[\"customer_code custmer_name customer_type\".split()].astype(\"string\")"
   ]
  },
  {
   "cell_type": "code",
   "execution_count": null,
   "id": "6a4c1c48",
   "metadata": {},
   "outputs": [],
   "source": [
    "customers_df[\"customer_type\"].unique()"
   ]
  },
  {
   "cell_type": "code",
   "execution_count": null,
   "id": "bd824684",
   "metadata": {},
   "outputs": [],
   "source": [
    "customers_df[\"customer_type\"].value_counts()"
   ]
  },
  {
   "cell_type": "code",
   "execution_count": 45,
   "id": "8f415797",
   "metadata": {},
   "outputs": [
    {
     "data": {
      "image/png": "[encoded data removed]",
      "text/plain": [
       "<Figure size 640x480 with 1 Axes>"
      ]
     },
     "metadata": {},
     "output_type": "display_data"
    }
   ],
   "source": [
    "type1=[\"Brick & Mortar\",\"E-Commerce \"]\n",
    "count=[19,19]\n",
    "plt.pie(count,labels=type1,autopct=\"%1.1f%%\")\n",
    "plt.title(\"count of type\")\n",
    "plt.grid()\n",
    "plt.show()"
   ]
  },
  {
   "cell_type": "code",
   "execution_count": null,
   "id": "19c954f8",
   "metadata": {},
   "outputs": [],
   "source": []
  }
 ],
 "metadata": {
  "kernelspec": {
   "display_name": "Python 3 (ipykernel)",
   "language": "python",
   "name": "python3"
  },
  "language_info": {
   "codemirror_mode": {
    "name": "ipython",
    "version": 3
   },
   "file_extension": ".py",
   "mimetype": "text/x-python",
   "name": "python",
   "nbconvert_exporter": "python",
   "pygments_lexer": "ipython3",
   "version": "3.11.5"
  }
 },
 "nbformat": 4,
 "nbformat_minor": 5
}
